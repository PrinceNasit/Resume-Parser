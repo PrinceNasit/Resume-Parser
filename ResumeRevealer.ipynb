{
 "cells": [
  {
   "cell_type": "code",
   "execution_count": 1,
   "metadata": {},
   "outputs": [
    {
     "name": "stderr",
     "output_type": "stream",
     "text": [
      "[nltk_data] Downloading package punkt to C:\\Users\\OM\n",
      "[nltk_data]     MEHRA\\AppData\\Roaming\\nltk_data...\n",
      "[nltk_data]   Package punkt is already up-to-date!\n",
      "[nltk_data] Downloading package averaged_perceptron_tagger to\n",
      "[nltk_data]     C:\\Users\\OM MEHRA\\AppData\\Roaming\\nltk_data...\n",
      "[nltk_data]   Package averaged_perceptron_tagger is already up-to-\n",
      "[nltk_data]       date!\n",
      "[nltk_data] Downloading package maxent_ne_chunker to C:\\Users\\OM\n",
      "[nltk_data]     MEHRA\\AppData\\Roaming\\nltk_data...\n",
      "[nltk_data]   Package maxent_ne_chunker is already up-to-date!\n",
      "[nltk_data] Downloading package words to C:\\Users\\OM\n",
      "[nltk_data]     MEHRA\\AppData\\Roaming\\nltk_data...\n",
      "[nltk_data]   Package words is already up-to-date!\n"
     ]
    },
    {
     "data": {
      "text/plain": [
       "True"
      ]
     },
     "execution_count": 1,
     "metadata": {},
     "output_type": "execute_result"
    }
   ],
   "source": [
    "import re\n",
    "import nltk\n",
    " \n",
    "nltk.download('punkt')\n",
    "nltk.download('averaged_perceptron_tagger')\n",
    "nltk.download('maxent_ne_chunker')\n",
    "nltk.download('words')"
   ]
  },
  {
   "cell_type": "code",
   "execution_count": 2,
   "metadata": {},
   "outputs": [
    {
     "name": "stderr",
     "output_type": "stream",
     "text": [
      "C:\\Users\\OM MEHRA\\AppData\\Local\\Programs\\Python\\Python311\\Lib\\site-packages\\tqdm\\auto.py:21: TqdmWarning: IProgress not found. Please update jupyter and ipywidgets. See https://ipywidgets.readthedocs.io/en/stable/user_install.html\n",
      "  from .autonotebook import tqdm as notebook_tqdm\n"
     ]
    }
   ],
   "source": [
    "import pdf2text\n",
    "import html2txt\n",
    "import doc2pdf\n",
    "import tex2pdf"
   ]
  },
  {
   "cell_type": "code",
   "execution_count": 3,
   "metadata": {},
   "outputs": [],
   "source": [
    "ans = {}"
   ]
  },
  {
   "cell_type": "code",
   "execution_count": 4,
   "metadata": {},
   "outputs": [],
   "source": [
    "input_file = 'My_resume.pdf'\n",
    "output_file = 'ouput_.txt'\n",
    "s = input_file"
   ]
  },
  {
   "cell_type": "code",
   "execution_count": 5,
   "metadata": {},
   "outputs": [
    {
     "data": {
      "text/plain": [
       "'pdf'"
      ]
     },
     "execution_count": 5,
     "metadata": {},
     "output_type": "execute_result"
    }
   ],
   "source": [
    "ext = s.split('.')[-1]\n",
    "ext"
   ]
  },
  {
   "cell_type": "code",
   "execution_count": 6,
   "metadata": {},
   "outputs": [
    {
     "name": "stderr",
     "output_type": "stream",
     "text": [
      "C:\\Users\\OM MEHRA\\AppData\\Local\\Programs\\Python\\Python311\\Lib\\site-packages\\cupy\\_environment.py:216: UserWarning: CUDA path could not be detected. Set CUDA_PATH environment variable if CuPy fails to load.\n",
      "  warnings.warn(\n",
      "C:\\Users\\OM MEHRA\\AppData\\Local\\Programs\\Python\\Python311\\Lib\\site-packages\\spacy\\util.py:275: UserWarning: [W031] Model 'en_training' (0.0.0) requires spaCy v2.1 and is incompatible with the current spaCy version (2.3.9). This may lead to unexpected results or runtime errors. To resolve this, download a newer compatible model or retrain your custom model with the current spaCy version. For more details and available updates, run: python -m spacy validate\n",
      "  warnings.warn(warn_msg)\n"
     ]
    },
    {
     "name": "stdout",
     "output_type": "stream",
     "text": [
      "{'name': 'Nasit Prince', 'email': 'princenasit371@gmail.com', 'mobile_number': '+91 99048 19036', 'skills': ['Engineering', 'Technical', 'Machine learning', 'Javascript', 'Java', 'C++', 'Sql', 'Keras', 'Tensorflow', 'Css', 'Database', 'Algorithms', 'Matplotlib', 'Training', 'Opencv', 'Scheduling', 'Html', 'Numpy', 'C', 'Programming', 'Pandas', 'Python', 'System'], 'college_name': None, 'degree': ['B. Tech in Computer Science and Engineering CGPA 8.68/10'], 'designation': ['Member Of Executive committee'], 'experience': ['Computer Society Of India, Nirma University', 'Member Of Executive committee', 'Oct 2021 - May 2025', 'Ahmedabad, India', 'Nov 2022 – Present', 'Ahmedabad, India', '• Led the successful organization of HackNUthon 4.0, an esteemed national-level hackathon that took place in April', '2023, serving as a vital member of the core committee..', '• Crafted and validated intricate problem sets for diverse online contests, ensuring a competitive environment.', '• Additionally, played an instrumental role in the Organizing Committee of Cubix 2023, a prominent and innovative', 'technology event, where active contributions helped make the event a resounding success.'], 'company_names': None, 'no_of_pages': 1, 'total_experience': 4.92}\n"
     ]
    }
   ],
   "source": [
    "from pyresparser import ResumeParser\n",
    "data = ResumeParser(input_file).get_extracted_data()\n",
    "print(data)"
   ]
  },
  {
   "cell_type": "code",
   "execution_count": 7,
   "metadata": {},
   "outputs": [
    {
     "name": "stdout",
     "output_type": "stream",
     "text": [
      "{'name': 'Nasit Prince', 'email': 'princenasit371@gmail.com', 'mobile_number': '+91 99048 19036', 'degree': ['B. Tech in Computer Science and Engineering CGPA 8.68/10']}\n"
     ]
    }
   ],
   "source": [
    "ans['name'] = data['name']\n",
    "ans['email'] = data['email']\n",
    "ans['mobile_number'] = data['mobile_number']\n",
    "ans['degree'] = data['degree']\n",
    "print(ans)"
   ]
  },
  {
   "cell_type": "code",
   "execution_count": 8,
   "metadata": {},
   "outputs": [
    {
     "name": "stdout",
     "output_type": "stream",
     "text": [
      "Nasit Prince\n",
      " +91 99048 19036\n",
      " princenasit371@gmail.com\n",
      " linkedin\n",
      "Education\n",
      "Institute Of Technology, Nirma University\n",
      "Oct 2021 - May 2025\n",
      "B. Tech in Computer Science and Engineering CGPA 8.68/10\n",
      "Ahmedabad, India\n",
      "Experience\n",
      "Computer Society Of India, Nirma University\n",
      "Nov 2022  Present\n",
      "Member Of Executive committee\n",
      "Ahmedabad, India\n",
      " Led the successful organization of HackNUthon 4.0, an esteemed national-level hackathon that took place in April\n",
      "2023, serving as a vital member of the core committee..\n",
      " Crafted and validated intricate problem sets for diverse online contests, ensuring a competitive environment.\n",
      " Additionally, played an instrumental role in the Organizing Committee of Cubix 2023, a prominent and innovative\n",
      "technology event, where active contributions helped make the event a resounding success.\n",
      "Projects\n",
      "Handwritten Character Recognition  Python, Machine learning, Deep learning, Streamlit \n",
      " Developed Handwritten Characters Recognition project using machine learning techniques.\n",
      " Achieved high accuracy in character recognition through extensive model training.\n",
      " Utilized Python and popular libraries like TensorFlow, keras, openCV, scikit-learn, numpy and pandas for\n",
      "implementation and Successfully integrated the project into real-world applications.\n",
      "Tour Guide  Java, Object Oriented programming \n",
      " Developed a Java-based Tour Guide project, incorporating Object-Oriented Programming (OOP) principles.\n",
      " Implemented inheritance to establish a hierarchical relationship among different types of locations and Utilized\n",
      "polymorphism to enable dynamic behavior and seamless integration of new features.\n",
      " Designed classes for locations, user preferences, and tour packages, including Season Tour, Economic Tour, and Month\n",
      "Tour.\n",
      "Scheduling Algorithms  Operating System, C \n",
      " Implemented various Scheduling Algorithms for project optimization.\n",
      " Created the project using C with the use of structure , linked list, queue and etc.\n",
      " Analyzed and compared the performance of each algorithm using real-world data.\n",
      "Medical Store Management System  Data Structure and Algorithms, C \n",
      " Experienced in developing a medical store management system utilizing tree data structure and C language.\n",
      " Utilized tree-based structure to handle large inventories and track expiration dates effectively.\n",
      " Optimized the addition and removal of medicines through the tree data structure.\n",
      " Successfully delivered a reliable and scalable medical store management solution.\n",
      "Achievements\n",
      " Pupil on codeforces with the highest rating of 1245\n",
      " Rated 3 star in codechef with highest ratting of 1619\n",
      " Successfully participated in Flipcart GRid 4.0 - Software Development Challenge organized by Flipcart.\n",
      "Profile Links\n",
      " Codechef\n",
      " Codeforces\n",
      " Leetcode\n",
      "Technical Skills\n",
      "Languages: C, C++, Python, Java, HTML/CSS, JavaScript, SQL\n",
      "Frameworks: ReactJS, AngularJS, Bootstrap\n",
      "Libraries: numpy, pandas, openCV, keras, tenserflow, scikit-learn, matplotlib, streamlit\n",
      "CS Fundamentals: Operating System, Data Structure and Algorithms, Database Management System, Object Oriented\n",
      "Programming\n",
      "\n"
     ]
    }
   ],
   "source": [
    "if ext == 'pdf':\n",
    "    pdf2text.get_text(input_file, output_file)\n",
    "elif ext == 'html' or ext == 'htm':\n",
    "    html2txt.convert_html_to_text(input_file,output_file)\n",
    "elif ext == 'docx':\n",
    "    dummy_file = 'dummy.pdf'\n",
    "    doc2pdf.converttopdf(input_file,dummy_file)\n",
    "    pdf2text.get_text(dummy_file, output_file)\n",
    "elif ext == 'tex':\n",
    "    dummy_file = 'dummy.pdf'\n",
    "    tex2pdf.tex_to_pdf(input_file, dummy_file)\n",
    "    pdf2text.get_text(dummy_file, output_file)"
   ]
  },
  {
   "cell_type": "code",
   "execution_count": 9,
   "metadata": {},
   "outputs": [
    {
     "data": {
      "text/plain": [
       "'Nasit Prince\\n +91 99048 19036\\n princenasit371@gmail.com\\n linkedin\\nEducation\\nInstitute Of Technology, Nirma University\\nOct 2021 - May 2025\\nB. Tech in Computer Science and Engineering CGPA 8.68/10\\nAhmedabad, India\\nExperience\\nComputer Society Of India, Nirma University\\nNov 2022  Present\\nMember Of Executive committee\\nAhmedabad, India\\n Led the successful organization of HackNUthon 4.0, an esteemed national-level hackathon that took place in April\\n2023, serving as a vital member of the core committee..\\n Crafted and validated intricate problem sets for diverse online contests, ensuring a competitive environment.\\n Additionally, played an instrumental role in the Organizing Committee of Cubix 2023, a prominent and innovative\\ntechnology event, where active contributions helped make the event a resounding success.\\nProjects\\nHandwritten Character Recognition  Python, Machine learning, Deep learning, Streamlit \\n Developed Handwritten Characters Recognition project using machine learning techniques.\\n Achieved high accuracy in character recognition through extensive model training.\\n Utilized Python and popular libraries like TensorFlow, keras, openCV, scikit-learn, numpy and pandas for\\nimplementation and Successfully integrated the project into real-world applications.\\nTour Guide  Java, Object Oriented programming \\n Developed a Java-based Tour Guide project, incorporating Object-Oriented Programming (OOP) principles.\\n Implemented inheritance to establish a hierarchical relationship among different types of locations and Utilized\\npolymorphism to enable dynamic behavior and seamless integration of new features.\\n Designed classes for locations, user preferences, and tour packages, including Season Tour, Economic Tour, and Month\\nTour.\\nScheduling Algorithms  Operating System, C \\n Implemented various Scheduling Algorithms for project optimization.\\n Created the project using C with the use of structure , linked list, queue and etc.\\n Analyzed and compared the performance of each algorithm using real-world data.\\nMedical Store Management System  Data Structure and Algorithms, C \\n Experienced in developing a medical store management system utilizing tree data structure and C language.\\n Utilized tree-based structure to handle large inventories and track expiration dates effectively.\\n Optimized the addition and removal of medicines through the tree data structure.\\n Successfully delivered a reliable and scalable medical store management solution.\\nAchievements\\n Pupil on codeforces with the highest rating of 1245\\n Rated 3 star in codechef with highest ratting of 1619\\n Successfully participated in Flipcart GRid 4.0 - Software Development Challenge organized by Flipcart.\\nProfile Links\\n Codechef\\n Codeforces\\n Leetcode\\nTechnical Skills\\nLanguages: C, C++, Python, Java, HTML/CSS, JavaScript, SQL\\nFrameworks: ReactJS, AngularJS, Bootstrap\\nLibraries: numpy, pandas, openCV, keras, tenserflow, scikit-learn, matplotlib, streamlit\\nCS Fundamentals: Operating System, Data Structure and Algorithms, Database Management System, Object Oriented\\nProgramming\\n'"
      ]
     },
     "execution_count": 9,
     "metadata": {},
     "output_type": "execute_result"
    }
   ],
   "source": [
    "s=''\n",
    "with open(output_file,'r') as f:\n",
    "  s=f.read()\n",
    "s"
   ]
  },
  {
   "cell_type": "code",
   "execution_count": 10,
   "metadata": {},
   "outputs": [],
   "source": [
    "import string\n",
    "\n",
    "def extract_ascii(text):\n",
    "    ascii_chars = set(string.ascii_letters + string.punctuation + string.digits + string.whitespace)\n",
    "    ascii_text = ''.join(char for char in text if char in ascii_chars)\n",
    "    return ascii_text"
   ]
  },
  {
   "cell_type": "code",
   "execution_count": 11,
   "metadata": {},
   "outputs": [],
   "source": [
    "s=extract_ascii(s)"
   ]
  },
  {
   "cell_type": "code",
   "execution_count": 12,
   "metadata": {},
   "outputs": [],
   "source": [
    "Keywords = [\"education\",\n",
    "            \"co-curricular activities\",\n",
    "            \"summary\",\n",
    "            \"accomplishments\",\n",
    "            \"executive profile\",\n",
    "            \"professional profile\",\n",
    "            \"personal profile\",\n",
    "            \"work background\",\n",
    "            \"academic profile\",\n",
    "            \"other activities\",\n",
    "            \"qualifications\",\n",
    "            \"experience\",\n",
    "            \"skills & interests\",\n",
    "            \"interests\",\n",
    "            \"skills\",\n",
    "            \"achievements\",\n",
    "            \"publications\",\n",
    "            \"publication\",\n",
    "            \"certifications\",\n",
    "            \"workshops\",\n",
    "            \"projects\",\n",
    "            \"internships\",\n",
    "            \"trainings\",\n",
    "            \"hobbies\",\n",
    "            \"overview\",\n",
    "            \"objective\",\n",
    "            \"position of responsibility\",\n",
    "            \"jobs\"\n",
    "           ]"
   ]
  },
  {
   "cell_type": "code",
   "execution_count": 13,
   "metadata": {},
   "outputs": [
    {
     "name": "stdout",
     "output_type": "stream",
     "text": [
      "{'education': None, 'co-curricular activities': None, 'summary': None, 'accomplishments': None, 'executive profile': None, 'professional profile': None, 'personal profile': None, 'work background': None, 'academic profile': None, 'other activities': None, 'qualifications': None, 'experience': None, 'skills & interests': None, 'interests': None, 'skills': None, 'achievements': None, 'publications': None, 'publication': None, 'certifications': None, 'workshops': None, 'projects': None, 'internships': None, 'trainings': None, 'hobbies': None, 'overview': None, 'objective': None, 'position of responsibility': None, 'jobs': None}\n"
     ]
    }
   ],
   "source": [
    "parsed_content = {i: None for i in Keywords}\n",
    "print(parsed_content)"
   ]
  },
  {
   "cell_type": "code",
   "execution_count": 14,
   "metadata": {},
   "outputs": [
    {
     "name": "stdout",
     "output_type": "stream",
     "text": [
      "nasit prince  +91 99048 19036  princenasit371@gmail.com  linkedin education institute of technology, nirma university oct 2021 - may 2025 b. tech in computer science and engineering cgpa 8.68/10 ahmedabad, india experience computer society of india, nirma university nov 2022  present member of executive committee ahmedabad, india  led the successful organization of hacknuthon 4.0, an esteemed national-level hackathon that took place in april 2023, serving as a vital member of the core committee..  crafted and validated intricate problem sets for diverse online contests, ensuring a competitive environment.  additionally, played an instrumental role in the organizing committee of cubix 2023, a prominent and innovative technology event, where active contributions helped make the event a resounding success. projects handwritten character recognition  python, machine learning, deep learning, streamlit   developed handwritten characters recognition project using machine learning techniques.  achieved high accuracy in character recognition through extensive model training.  utilized python and popular libraries like tensorflow, keras, opencv, scikit-learn, numpy and pandas for implementation and successfully integrated the project into real-world applications. tour guide  java, object oriented programming   developed a java-based tour guide project, incorporating object-oriented programming (oop) principles.  implemented inheritance to establish a hierarchical relationship among different types of locations and utilized polymorphism to enable dynamic behavior and seamless integration of new features.  designed classes for locations, user preferences, and tour packages, including season tour, economic tour, and month tour. scheduling algorithms  operating system, c   implemented various scheduling algorithms for project optimization.  created the project using c with the use of structure , linked list, queue and etc.  analyzed and compared the performance of each algorithm using real-world data. medical store management system  data structure and algorithms, c   experienced in developing a medical store management system utilizing tree data structure and c language.  utilized tree-based structure to handle large inventories and track expiration dates effectively.  optimized the addition and removal of medicines through the tree data structure.  successfully delivered a reliable and scalable medical store management solution. achievements  pupil on codeforces with the highest rating of 1245  rated 3 star in codechef with highest ratting of 1619  successfully participated in flipcart grid 4.0 - software development challenge organized by flipcart. profile links  codechef  codeforces  leetcode technical skills languages: c, c++, python, java, html/css, javascript, sql frameworks: reactjs, angularjs, bootstrap libraries: numpy, pandas, opencv, keras, tenserflow, scikit-learn, matplotlib, streamlit cs fundamentals: operating system, data structure and algorithms, database management system, object oriented programming \n"
     ]
    }
   ],
   "source": [
    "text = s.replace(\"\\n\",\" \")\n",
    "text = text.replace(\"[^a-zA-Z0-9]\", \" \");  \n",
    "re.sub('\\W+','', text)\n",
    "text = text.lower()\n",
    "print(text)"
   ]
  },
  {
   "cell_type": "code",
   "execution_count": 15,
   "metadata": {},
   "outputs": [],
   "source": [
    "content = {}\n",
    "indices = []\n",
    "keys = []\n",
    "for key in Keywords:\n",
    "    try:\n",
    "        content[key] = text[text.index(key) + len(key):]\n",
    "        indices.append(text.index(key))\n",
    "        keys.append(key)\n",
    "    except:\n",
    "        pass"
   ]
  },
  {
   "cell_type": "code",
   "execution_count": 16,
   "metadata": {},
   "outputs": [
    {
     "data": {
      "text/plain": [
       "['education', 'experience', 'projects', 'achievements', 'skills']"
      ]
     },
     "execution_count": 16,
     "metadata": {},
     "output_type": "execute_result"
    }
   ],
   "source": [
    "zipped_lists = zip(indices, keys)\n",
    "sorted_pairs = sorted(zipped_lists)\n",
    "sorted_pairs\n",
    "\n",
    "tuples = zip(*sorted_pairs)\n",
    "indices, keys = [ list(tuple) for tuple in  tuples]\n",
    "keys"
   ]
  },
  {
   "cell_type": "code",
   "execution_count": 17,
   "metadata": {},
   "outputs": [],
   "source": [
    "#Keeping the required content and removing the redundant part\n",
    "content = []\n",
    "for idx in range(len(indices)):\n",
    "    if idx != len(indices)-1:\n",
    "        content.append(text[indices[idx]: indices[idx+1]])\n",
    "    else:\n",
    "        content.append(text[indices[idx]: ])"
   ]
  },
  {
   "cell_type": "code",
   "execution_count": 18,
   "metadata": {},
   "outputs": [],
   "source": [
    "for i in range(len(indices)):\n",
    "    parsed_content[keys[i]] = content[i]"
   ]
  },
  {
   "cell_type": "code",
   "execution_count": 19,
   "metadata": {},
   "outputs": [
    {
     "data": {
      "text/plain": [
       "{'education': 'education institute of technology, nirma university oct 2021 - may 2025 b. tech in computer science and engineering cgpa 8.68/10 ahmedabad, india ',\n",
       " 'co-curricular activities': None,\n",
       " 'summary': None,\n",
       " 'accomplishments': None,\n",
       " 'executive profile': None,\n",
       " 'professional profile': None,\n",
       " 'personal profile': None,\n",
       " 'work background': None,\n",
       " 'academic profile': None,\n",
       " 'other activities': None,\n",
       " 'qualifications': None,\n",
       " 'experience': 'experience computer society of india, nirma university nov 2022  present member of executive committee ahmedabad, india  led the successful organization of hacknuthon 4.0, an esteemed national-level hackathon that took place in april 2023, serving as a vital member of the core committee..  crafted and validated intricate problem sets for diverse online contests, ensuring a competitive environment.  additionally, played an instrumental role in the organizing committee of cubix 2023, a prominent and innovative technology event, where active contributions helped make the event a resounding success. ',\n",
       " 'skills & interests': None,\n",
       " 'interests': None,\n",
       " 'skills': 'skills languages: c, c++, python, java, html/css, javascript, sql frameworks: reactjs, angularjs, bootstrap libraries: numpy, pandas, opencv, keras, tenserflow, scikit-learn, matplotlib, streamlit cs fundamentals: operating system, data structure and algorithms, database management system, object oriented programming ',\n",
       " 'achievements': 'achievements  pupil on codeforces with the highest rating of 1245  rated 3 star in codechef with highest ratting of 1619  successfully participated in flipcart grid 4.0 - software development challenge organized by flipcart. profile links  codechef  codeforces  leetcode technical ',\n",
       " 'publications': None,\n",
       " 'publication': None,\n",
       " 'certifications': None,\n",
       " 'workshops': None,\n",
       " 'projects': 'projects handwritten character recognition  python, machine learning, deep learning, streamlit   developed handwritten characters recognition project using machine learning techniques.  achieved high accuracy in character recognition through extensive model training.  utilized python and popular libraries like tensorflow, keras, opencv, scikit-learn, numpy and pandas for implementation and successfully integrated the project into real-world applications. tour guide  java, object oriented programming   developed a java-based tour guide project, incorporating object-oriented programming (oop) principles.  implemented inheritance to establish a hierarchical relationship among different types of locations and utilized polymorphism to enable dynamic behavior and seamless integration of new features.  designed classes for locations, user preferences, and tour packages, including season tour, economic tour, and month tour. scheduling algorithms  operating system, c   implemented various scheduling algorithms for project optimization.  created the project using c with the use of structure , linked list, queue and etc.  analyzed and compared the performance of each algorithm using real-world data. medical store management system  data structure and algorithms, c   experienced in developing a medical store management system utilizing tree data structure and c language.  utilized tree-based structure to handle large inventories and track expiration dates effectively.  optimized the addition and removal of medicines through the tree data structure.  successfully delivered a reliable and scalable medical store management solution. ',\n",
       " 'internships': None,\n",
       " 'trainings': None,\n",
       " 'hobbies': None,\n",
       " 'overview': None,\n",
       " 'objective': None,\n",
       " 'position of responsibility': None,\n",
       " 'jobs': None}"
      ]
     },
     "execution_count": 19,
     "metadata": {},
     "output_type": "execute_result"
    }
   ],
   "source": [
    "parsed_content"
   ]
  },
  {
   "cell_type": "code",
   "execution_count": 20,
   "metadata": {},
   "outputs": [],
   "source": [
    "ans['education'] = parsed_content['education']\n",
    "ans['projects'] = parsed_content['projects']\n",
    "ans['skills'] = parsed_content['skills']\n",
    "ans['interests'] = parsed_content['interests']\n",
    "ans['experience'] = parsed_content['experience']"
   ]
  },
  {
   "cell_type": "code",
   "execution_count": 21,
   "metadata": {},
   "outputs": [
    {
     "name": "stdout",
     "output_type": "stream",
     "text": [
      "Model for skills extraction from project descriptions loaded...\n",
      "F1-score (micro): 0.2264\n",
      "Model for skills extraction from job descriptions loaded...\n",
      "F1-score (micro): 0.0584\n"
     ]
    }
   ],
   "source": [
    "import project_pred\n",
    "import job_pred"
   ]
  },
  {
   "cell_type": "code",
   "execution_count": 22,
   "metadata": {},
   "outputs": [],
   "source": [
    "wee = []\n",
    "wee.append(ans['projects'])\n",
    "ans['extracted_skills_projects'] = project_pred.prediction(wee)"
   ]
  },
  {
   "cell_type": "code",
   "execution_count": 23,
   "metadata": {},
   "outputs": [],
   "source": [
    "wee = []\n",
    "wee.append(ans['experience'])\n",
    "ans['extracted_skills_job'] = job_pred.prediction(wee)"
   ]
  },
  {
   "cell_type": "code",
   "execution_count": 24,
   "metadata": {},
   "outputs": [
    {
     "name": "stdout",
     "output_type": "stream",
     "text": [
      "name: Nasit Prince\n",
      "\n",
      "\n",
      "email: princenasit371@gmail.com\n",
      "\n",
      "\n",
      "mobile_number: +91 99048 19036\n",
      "\n",
      "\n",
      "degree: ['B. Tech in Computer Science and Engineering CGPA 8.68/10']\n",
      "\n",
      "\n",
      "education: education institute of technology, nirma university oct 2021 - may 2025 b. tech in computer science and engineering cgpa 8.68/10 ahmedabad, india \n",
      "\n",
      "\n",
      "projects: projects handwritten character recognition  python, machine learning, deep learning, streamlit   developed handwritten characters recognition project using machine learning techniques.  achieved high accuracy in character recognition through extensive model training.  utilized python and popular libraries like tensorflow, keras, opencv, scikit-learn, numpy and pandas for implementation and successfully integrated the project into real-world applications. tour guide  java, object oriented programming   developed a java-based tour guide project, incorporating object-oriented programming (oop) principles.  implemented inheritance to establish a hierarchical relationship among different types of locations and utilized polymorphism to enable dynamic behavior and seamless integration of new features.  designed classes for locations, user preferences, and tour packages, including season tour, economic tour, and month tour. scheduling algorithms  operating system, c   implemented various scheduling algorithms for project optimization.  created the project using c with the use of structure , linked list, queue and etc.  analyzed and compared the performance of each algorithm using real-world data. medical store management system  data structure and algorithms, c   experienced in developing a medical store management system utilizing tree data structure and c language.  utilized tree-based structure to handle large inventories and track expiration dates effectively.  optimized the addition and removal of medicines through the tree data structure.  successfully delivered a reliable and scalable medical store management solution. \n",
      "\n",
      "\n",
      "skills: skills languages: c, c++, python, java, html/css, javascript, sql frameworks: reactjs, angularjs, bootstrap libraries: numpy, pandas, opencv, keras, tenserflow, scikit-learn, matplotlib, streamlit cs fundamentals: operating system, data structure and algorithms, database management system, object oriented programming \n",
      "\n",
      "\n",
      "experience: experience computer society of india, nirma university nov 2022  present member of executive committee ahmedabad, india  led the successful organization of hacknuthon 4.0, an esteemed national-level hackathon that took place in april 2023, serving as a vital member of the core committee..  crafted and validated intricate problem sets for diverse online contests, ensuring a competitive environment.  additionally, played an instrumental role in the organizing committee of cubix 2023, a prominent and innovative technology event, where active contributions helped make the event a resounding success. \n",
      "\n",
      "\n",
      "extracted_skills_projects: ['Big data analytics, Hadoop, Spark, Apache Kafka, data analysis.']\n",
      "\n",
      "\n",
      "extracted_skills_job: ['Installation Techniques, Carpentry, Attention to Detail']\n",
      "\n",
      "\n"
     ]
    }
   ],
   "source": [
    "for key, value in ans.items():\n",
    "    if value:\n",
    "        print(f'{key}: {value}')\n",
    "        print('\\n')"
   ]
  },
  {
   "cell_type": "code",
   "execution_count": 29,
   "metadata": {},
   "outputs": [],
   "source": [
    "import TrajectoryGeneration as tg"
   ]
  },
  {
   "cell_type": "code",
   "execution_count": 30,
   "metadata": {},
   "outputs": [
    {
     "name": "stdout",
     "output_type": "stream",
     "text": [
      "Career Trajectory:\n",
      "Oct 2021  May 2025 Institute Of Technology, Nirma University\n",
      "Nov 2022  Nov 2022 Computer Society Of India, Nirma University\n",
      "\n"
     ]
    }
   ],
   "source": [
    "tg.career_trajectory(output_file)"
   ]
  },
  {
   "cell_type": "code",
   "execution_count": null,
   "metadata": {},
   "outputs": [],
   "source": []
  },
  {
   "cell_type": "code",
   "execution_count": null,
   "metadata": {},
   "outputs": [],
   "source": []
  },
  {
   "cell_type": "code",
   "execution_count": null,
   "metadata": {},
   "outputs": [],
   "source": []
  },
  {
   "cell_type": "code",
   "execution_count": null,
   "metadata": {},
   "outputs": [],
   "source": []
  }
 ],
 "metadata": {
  "kernelspec": {
   "display_name": "Python 3 (ipykernel)",
   "language": "python",
   "name": "python3"
  },
  "language_info": {
   "codemirror_mode": {
    "name": "ipython",
    "version": 3
   },
   "file_extension": ".py",
   "mimetype": "text/x-python",
   "name": "python",
   "nbconvert_exporter": "python",
   "pygments_lexer": "ipython3",
   "version": "3.11.7"
  }
 },
 "nbformat": 4,
 "nbformat_minor": 4
}
